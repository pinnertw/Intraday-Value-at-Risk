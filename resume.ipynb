{
 "cells": [
  {
   "cell_type": "markdown",
   "id": "superb-chassis",
   "metadata": {
    "toc": true
   },
   "source": [
    "<h1>Table of Contents<span class=\"tocSkip\"></span></h1>\n",
    "<div class=\"toc\"><ul class=\"toc-item\"><li><span><a href=\"#Data\" data-toc-modified-id=\"Data-1\"><span class=\"toc-item-num\">1&nbsp;&nbsp;</span>Data</a></span></li><li><span><a href=\"#NOKIA\" data-toc-modified-id=\"NOKIA-2\"><span class=\"toc-item-num\">2&nbsp;&nbsp;</span>NOKIA</a></span></li><li><span><a href=\"#AXA\" data-toc-modified-id=\"AXA-3\"><span class=\"toc-item-num\">3&nbsp;&nbsp;</span>AXA</a></span></li><li><span><a href=\"#BNP-PARIBAS\" data-toc-modified-id=\"BNP-PARIBAS-4\"><span class=\"toc-item-num\">4&nbsp;&nbsp;</span>BNP PARIBAS</a></span></li><li><span><a href=\"#LVMH\" data-toc-modified-id=\"LVMH-5\"><span class=\"toc-item-num\">5&nbsp;&nbsp;</span>LVMH</a></span></li></ul></div>"
   ]
  },
  {
   "cell_type": "code",
   "execution_count": 1,
   "id": "still-folks",
   "metadata": {},
   "outputs": [],
   "source": [
    "import pandas as pd\n",
    "from matplotlib import pyplot as plt\n",
    "%matplotlib inline"
   ]
  },
  {
   "cell_type": "code",
   "execution_count": 2,
   "id": "opening-smooth",
   "metadata": {},
   "outputs": [],
   "source": [
    "path = 'data/'"
   ]
  },
  {
   "cell_type": "markdown",
   "id": "annual-instrument",
   "metadata": {},
   "source": [
    "## Data\n",
    "From 2017-11-13 to 2018-02-28<br>\n",
    "9:00am $\\rightarrow$ 5:30pm"
   ]
  },
  {
   "cell_type": "markdown",
   "id": "medical-desert",
   "metadata": {},
   "source": [
    "## NOKIA\n",
    "- **tick :** 0.001\n",
    "- **price :** ~4.12"
   ]
  },
  {
   "cell_type": "code",
   "execution_count": 3,
   "id": "economic-fleece",
   "metadata": {},
   "outputs": [],
   "source": [
    "df_NOKIA = pd.read_csv(path + 'NOKIA_3months.csv') "
   ]
  },
  {
   "cell_type": "code",
   "execution_count": 4,
   "id": "agreed-fourth",
   "metadata": {},
   "outputs": [
    {
     "data": {
      "text/html": [
       "<div>\n",
       "<style scoped>\n",
       "    .dataframe tbody tr th:only-of-type {\n",
       "        vertical-align: middle;\n",
       "    }\n",
       "\n",
       "    .dataframe tbody tr th {\n",
       "        vertical-align: top;\n",
       "    }\n",
       "\n",
       "    .dataframe thead th {\n",
       "        text-align: right;\n",
       "    }\n",
       "</style>\n",
       "<table border=\"1\" class=\"dataframe\">\n",
       "  <thead>\n",
       "    <tr style=\"text-align: right;\">\n",
       "      <th></th>\n",
       "      <th>DATE</th>\n",
       "      <th>TIME</th>\n",
       "      <th>TRADE</th>\n",
       "      <th>BEST_BID</th>\n",
       "      <th>BEST_ASK</th>\n",
       "      <th>BID0_QTY</th>\n",
       "      <th>ASK0_QTY</th>\n",
       "    </tr>\n",
       "  </thead>\n",
       "  <tbody>\n",
       "    <tr>\n",
       "      <th>12303460</th>\n",
       "      <td>2018-02-28</td>\n",
       "      <td>62999.705830</td>\n",
       "      <td>False</td>\n",
       "      <td>4.787</td>\n",
       "      <td>4.803</td>\n",
       "      <td>4962</td>\n",
       "      <td>13004</td>\n",
       "    </tr>\n",
       "    <tr>\n",
       "      <th>12303461</th>\n",
       "      <td>2018-02-28</td>\n",
       "      <td>62999.705846</td>\n",
       "      <td>False</td>\n",
       "      <td>4.787</td>\n",
       "      <td>4.803</td>\n",
       "      <td>4962</td>\n",
       "      <td>13004</td>\n",
       "    </tr>\n",
       "    <tr>\n",
       "      <th>12303462</th>\n",
       "      <td>2018-02-28</td>\n",
       "      <td>62999.706169</td>\n",
       "      <td>False</td>\n",
       "      <td>4.787</td>\n",
       "      <td>4.803</td>\n",
       "      <td>6962</td>\n",
       "      <td>13004</td>\n",
       "    </tr>\n",
       "    <tr>\n",
       "      <th>12303463</th>\n",
       "      <td>2018-02-28</td>\n",
       "      <td>62999.707225</td>\n",
       "      <td>False</td>\n",
       "      <td>4.787</td>\n",
       "      <td>4.803</td>\n",
       "      <td>6962</td>\n",
       "      <td>13004</td>\n",
       "    </tr>\n",
       "    <tr>\n",
       "      <th>12303464</th>\n",
       "      <td>2018-02-28</td>\n",
       "      <td>62999.870966</td>\n",
       "      <td>False</td>\n",
       "      <td>4.787</td>\n",
       "      <td>4.803</td>\n",
       "      <td>6962</td>\n",
       "      <td>14815</td>\n",
       "    </tr>\n",
       "  </tbody>\n",
       "</table>\n",
       "</div>"
      ],
      "text/plain": [
       "                DATE          TIME  TRADE  BEST_BID  BEST_ASK  BID0_QTY  \\\n",
       "12303460  2018-02-28  62999.705830  False     4.787     4.803      4962   \n",
       "12303461  2018-02-28  62999.705846  False     4.787     4.803      4962   \n",
       "12303462  2018-02-28  62999.706169  False     4.787     4.803      6962   \n",
       "12303463  2018-02-28  62999.707225  False     4.787     4.803      6962   \n",
       "12303464  2018-02-28  62999.870966  False     4.787     4.803      6962   \n",
       "\n",
       "          ASK0_QTY  \n",
       "12303460     13004  \n",
       "12303461     13004  \n",
       "12303462     13004  \n",
       "12303463     13004  \n",
       "12303464     14815  "
      ]
     },
     "execution_count": 4,
     "metadata": {},
     "output_type": "execute_result"
    }
   ],
   "source": [
    "df_NOKIA.tail()"
   ]
  },
  {
   "cell_type": "code",
   "execution_count": 5,
   "id": "objective-eating",
   "metadata": {},
   "outputs": [
    {
     "name": "stdout",
     "output_type": "stream",
     "text": [
      "Average mid-price: 4.126535088867681\n"
     ]
    }
   ],
   "source": [
    "df = df_NOKIA\n",
    "print('Average mid-price:', (df.BEST_ASK+df.BEST_BID).mean()/2)"
   ]
  },
  {
   "cell_type": "code",
   "execution_count": 6,
   "id": "handed-macro",
   "metadata": {},
   "outputs": [
    {
     "data": {
      "text/plain": [
       "[<matplotlib.lines.Line2D at 0x7f2e53c994c0>]"
      ]
     },
     "execution_count": 6,
     "metadata": {},
     "output_type": "execute_result"
    },
    {
     "data": {
      "image/png": "[encoded data removed]",
      "text/plain": [
       "<Figure size 432x288 with 1 Axes>"
      ]
     },
     "metadata": {
      "needs_background": "light"
     },
     "output_type": "display_data"
    }
   ],
   "source": [
    "plt.plot(df.BEST_ASK.iloc[:int(1e4)], label='Best_ask')\n",
    "plt.plot(df.BEST_BID.iloc[:int(1e4)], label='Best_bid')"
   ]
  },
  {
   "cell_type": "code",
   "execution_count": 7,
   "id": "informative-thomas",
   "metadata": {},
   "outputs": [
    {
     "data": {
      "text/plain": [
       "count        75.000000\n",
       "mean     164046.200000\n",
       "std       60531.349061\n",
       "min       48465.000000\n",
       "25%      113117.500000\n",
       "50%      177466.000000\n",
       "75%      203655.000000\n",
       "max      391697.000000\n",
       "dtype: float64"
      ]
     },
     "execution_count": 7,
     "metadata": {},
     "output_type": "execute_result"
    }
   ],
   "source": [
    "# from 2017-11-10 to 2018-02-28\n",
    "# the value is the length of orders on the day\n",
    "df.groupby('DATE').size().describe()"
   ]
  },
  {
   "cell_type": "markdown",
   "id": "departmental-tongue",
   "metadata": {},
   "source": [
    "## AXA\n",
    "- **tick :** 0.005\n",
    "- **price :** ~25"
   ]
  },
  {
   "cell_type": "markdown",
   "id": "demonstrated-medicaid",
   "metadata": {},
   "source": [
    "<div class=\"alert alert-block alert-danger\">\n",
    "<b>AXA</b><br>\n",
    "Problems for 5 days : there are BEST_BID > BEST_ASK (see Input [11])<br>\n",
    "    2017-11-16<br>\n",
    "    2017-11-21<br>\n",
    "    2017-12-18<br>\n",
    "    2017-12-19<br>\n",
    "    2018-01-31"
   ]
  },
  {
   "cell_type": "code",
   "execution_count": 8,
   "id": "prescription-renaissance",
   "metadata": {},
   "outputs": [],
   "source": [
    "df_AXA = pd.read_csv(path + 'AXA_3months.csv') "
   ]
  },
  {
   "cell_type": "code",
   "execution_count": 9,
   "id": "loving-catalyst",
   "metadata": {},
   "outputs": [
    {
     "data": {
      "text/html": [
       "<div>\n",
       "<style scoped>\n",
       "    .dataframe tbody tr th:only-of-type {\n",
       "        vertical-align: middle;\n",
       "    }\n",
       "\n",
       "    .dataframe tbody tr th {\n",
       "        vertical-align: top;\n",
       "    }\n",
       "\n",
       "    .dataframe thead th {\n",
       "        text-align: right;\n",
       "    }\n",
       "</style>\n",
       "<table border=\"1\" class=\"dataframe\">\n",
       "  <thead>\n",
       "    <tr style=\"text-align: right;\">\n",
       "      <th></th>\n",
       "      <th>DATE</th>\n",
       "      <th>TIME</th>\n",
       "      <th>TRADE</th>\n",
       "      <th>BEST_BID</th>\n",
       "      <th>BEST_ASK</th>\n",
       "      <th>BID0_QTY</th>\n",
       "      <th>ASK0_QTY</th>\n",
       "    </tr>\n",
       "  </thead>\n",
       "  <tbody>\n",
       "    <tr>\n",
       "      <th>0</th>\n",
       "      <td>2017-11-13</td>\n",
       "      <td>32423.015991</td>\n",
       "      <td>True</td>\n",
       "      <td>25.17</td>\n",
       "      <td>25.2</td>\n",
       "      <td>3555</td>\n",
       "      <td>804</td>\n",
       "    </tr>\n",
       "    <tr>\n",
       "      <th>1</th>\n",
       "      <td>2017-11-13</td>\n",
       "      <td>32423.015994</td>\n",
       "      <td>True</td>\n",
       "      <td>25.17</td>\n",
       "      <td>25.2</td>\n",
       "      <td>3445</td>\n",
       "      <td>804</td>\n",
       "    </tr>\n",
       "    <tr>\n",
       "      <th>2</th>\n",
       "      <td>2017-11-13</td>\n",
       "      <td>32423.068781</td>\n",
       "      <td>False</td>\n",
       "      <td>25.17</td>\n",
       "      <td>25.2</td>\n",
       "      <td>3335</td>\n",
       "      <td>804</td>\n",
       "    </tr>\n",
       "    <tr>\n",
       "      <th>3</th>\n",
       "      <td>2017-11-13</td>\n",
       "      <td>32423.068787</td>\n",
       "      <td>False</td>\n",
       "      <td>25.17</td>\n",
       "      <td>25.2</td>\n",
       "      <td>3835</td>\n",
       "      <td>804</td>\n",
       "    </tr>\n",
       "    <tr>\n",
       "      <th>4</th>\n",
       "      <td>2017-11-13</td>\n",
       "      <td>32423.068883</td>\n",
       "      <td>False</td>\n",
       "      <td>25.17</td>\n",
       "      <td>25.2</td>\n",
       "      <td>3835</td>\n",
       "      <td>1304</td>\n",
       "    </tr>\n",
       "  </tbody>\n",
       "</table>\n",
       "</div>"
      ],
      "text/plain": [
       "         DATE          TIME  TRADE  BEST_BID  BEST_ASK  BID0_QTY  ASK0_QTY\n",
       "0  2017-11-13  32423.015991   True     25.17      25.2      3555       804\n",
       "1  2017-11-13  32423.015994   True     25.17      25.2      3445       804\n",
       "2  2017-11-13  32423.068781  False     25.17      25.2      3335       804\n",
       "3  2017-11-13  32423.068787  False     25.17      25.2      3835       804\n",
       "4  2017-11-13  32423.068883  False     25.17      25.2      3835      1304"
      ]
     },
     "execution_count": 9,
     "metadata": {},
     "output_type": "execute_result"
    }
   ],
   "source": [
    "df_AXA.head()"
   ]
  },
  {
   "cell_type": "code",
   "execution_count": 10,
   "id": "marked-bread",
   "metadata": {},
   "outputs": [
    {
     "name": "stdout",
     "output_type": "stream",
     "text": [
      "Average mid-price: 25.666264517143233\n"
     ]
    }
   ],
   "source": [
    "df = df_AXA\n",
    "print('Average mid-price:', (df.BEST_ASK+df.BEST_BID).mean()/2)"
   ]
  },
  {
   "cell_type": "code",
   "execution_count": 11,
   "id": "saved-judges",
   "metadata": {},
   "outputs": [
    {
     "data": {
      "text/plain": [
       "DATE\n",
       "2017-11-16      159\n",
       "2017-11-21      243\n",
       "2017-12-18    17072\n",
       "2017-12-19     1680\n",
       "2018-01-31        3\n",
       "dtype: int64"
      ]
     },
     "execution_count": 11,
     "metadata": {},
     "output_type": "execute_result"
    }
   ],
   "source": [
    "df[df.BEST_BID>df.BEST_ASK].groupby('DATE').size()"
   ]
  },
  {
   "cell_type": "code",
   "execution_count": 12,
   "id": "cooked-funeral",
   "metadata": {},
   "outputs": [
    {
     "data": {
      "text/plain": [
       "count        75.000000\n",
       "mean     276953.360000\n",
       "std      108821.279043\n",
       "min      118318.000000\n",
       "25%      207784.000000\n",
       "50%      249406.000000\n",
       "75%      328612.500000\n",
       "max      686048.000000\n",
       "dtype: float64"
      ]
     },
     "execution_count": 12,
     "metadata": {},
     "output_type": "execute_result"
    }
   ],
   "source": [
    "# from 2017-11-13 to 2018-02-28\n",
    "# the value is the length of orders on the day\n",
    "df_AXA.groupby('DATE').size().describe()"
   ]
  },
  {
   "cell_type": "markdown",
   "id": "featured-wrong",
   "metadata": {},
   "source": [
    "## BNP PARIBAS\n",
    "- **tick :** 0.01\n",
    "- **price :** ~64.5"
   ]
  },
  {
   "cell_type": "markdown",
   "id": "changed-bahamas",
   "metadata": {},
   "source": [
    "<div class=\"alert alert-block alert-danger\">\n",
    "<b>BNP PARIBAS</b><br>\n",
    "Problems for 2 days : there are BEST_BID > BEST_ASK (see Input [16])<br>\n",
    "    2017-12-21<br>\n",
    "    2018-02-06"
   ]
  },
  {
   "cell_type": "code",
   "execution_count": 13,
   "id": "assisted-prime",
   "metadata": {},
   "outputs": [],
   "source": [
    "df_BNP = pd.read_csv(path + 'BNP_3months.csv') "
   ]
  },
  {
   "cell_type": "code",
   "execution_count": 14,
   "id": "hairy-vegetable",
   "metadata": {},
   "outputs": [
    {
     "data": {
      "text/html": [
       "<div>\n",
       "<style scoped>\n",
       "    .dataframe tbody tr th:only-of-type {\n",
       "        vertical-align: middle;\n",
       "    }\n",
       "\n",
       "    .dataframe tbody tr th {\n",
       "        vertical-align: top;\n",
       "    }\n",
       "\n",
       "    .dataframe thead th {\n",
       "        text-align: right;\n",
       "    }\n",
       "</style>\n",
       "<table border=\"1\" class=\"dataframe\">\n",
       "  <thead>\n",
       "    <tr style=\"text-align: right;\">\n",
       "      <th></th>\n",
       "      <th>DATE</th>\n",
       "      <th>TIME</th>\n",
       "      <th>TRADE</th>\n",
       "      <th>BEST_BID</th>\n",
       "      <th>BEST_ASK</th>\n",
       "      <th>BID0_QTY</th>\n",
       "      <th>ASK0_QTY</th>\n",
       "    </tr>\n",
       "  </thead>\n",
       "  <tbody>\n",
       "    <tr>\n",
       "      <th>0</th>\n",
       "      <td>2017-11-13</td>\n",
       "      <td>32423.015777</td>\n",
       "      <td>True</td>\n",
       "      <td>64.63</td>\n",
       "      <td>64.75</td>\n",
       "      <td>2059</td>\n",
       "      <td>173</td>\n",
       "    </tr>\n",
       "    <tr>\n",
       "      <th>1</th>\n",
       "      <td>2017-11-13</td>\n",
       "      <td>32423.015781</td>\n",
       "      <td>True</td>\n",
       "      <td>64.63</td>\n",
       "      <td>64.75</td>\n",
       "      <td>2009</td>\n",
       "      <td>173</td>\n",
       "    </tr>\n",
       "    <tr>\n",
       "      <th>2</th>\n",
       "      <td>2017-11-13</td>\n",
       "      <td>32423.068658</td>\n",
       "      <td>False</td>\n",
       "      <td>64.63</td>\n",
       "      <td>64.75</td>\n",
       "      <td>1784</td>\n",
       "      <td>173</td>\n",
       "    </tr>\n",
       "    <tr>\n",
       "      <th>3</th>\n",
       "      <td>2017-11-13</td>\n",
       "      <td>32423.068664</td>\n",
       "      <td>False</td>\n",
       "      <td>64.63</td>\n",
       "      <td>64.74</td>\n",
       "      <td>1784</td>\n",
       "      <td>200</td>\n",
       "    </tr>\n",
       "    <tr>\n",
       "      <th>4</th>\n",
       "      <td>2017-11-13</td>\n",
       "      <td>32423.386669</td>\n",
       "      <td>False</td>\n",
       "      <td>64.64</td>\n",
       "      <td>64.74</td>\n",
       "      <td>200</td>\n",
       "      <td>200</td>\n",
       "    </tr>\n",
       "  </tbody>\n",
       "</table>\n",
       "</div>"
      ],
      "text/plain": [
       "         DATE          TIME  TRADE  BEST_BID  BEST_ASK  BID0_QTY  ASK0_QTY\n",
       "0  2017-11-13  32423.015777   True     64.63     64.75      2059       173\n",
       "1  2017-11-13  32423.015781   True     64.63     64.75      2009       173\n",
       "2  2017-11-13  32423.068658  False     64.63     64.75      1784       173\n",
       "3  2017-11-13  32423.068664  False     64.63     64.74      1784       200\n",
       "4  2017-11-13  32423.386669  False     64.64     64.74       200       200"
      ]
     },
     "execution_count": 14,
     "metadata": {},
     "output_type": "execute_result"
    }
   ],
   "source": [
    "df_BNP.head()"
   ]
  },
  {
   "cell_type": "code",
   "execution_count": 15,
   "id": "capable-radical",
   "metadata": {},
   "outputs": [
    {
     "name": "stdout",
     "output_type": "stream",
     "text": [
      "Average mid-price: 64.50419402254703\n"
     ]
    }
   ],
   "source": [
    "df = df_BNP\n",
    "print('Average mid-price:', (df.BEST_ASK+df.BEST_BID).mean()/2)"
   ]
  },
  {
   "cell_type": "code",
   "execution_count": 16,
   "id": "willing-jumping",
   "metadata": {},
   "outputs": [
    {
     "data": {
      "text/plain": [
       "DATE\n",
       "2017-12-21    105313\n",
       "2018-02-06        57\n",
       "dtype: int64"
      ]
     },
     "execution_count": 16,
     "metadata": {},
     "output_type": "execute_result"
    }
   ],
   "source": [
    "df[df.BEST_BID>df.BEST_ASK].groupby('DATE').size()"
   ]
  },
  {
   "cell_type": "code",
   "execution_count": 17,
   "id": "comprehensive-drinking",
   "metadata": {},
   "outputs": [
    {
     "data": {
      "text/plain": [
       "[<matplotlib.lines.Line2D at 0x7f2e533c3be0>]"
      ]
     },
     "execution_count": 17,
     "metadata": {},
     "output_type": "execute_result"
    },
    {
     "data": {
      "image/png": "[encoded data removed]",
      "text/plain": [
       "<Figure size 432x288 with 1 Axes>"
      ]
     },
     "metadata": {
      "needs_background": "light"
     },
     "output_type": "display_data"
    }
   ],
   "source": [
    "# some extreme values exist\n",
    "plt.plot(df.BEST_ASK.iloc[:int(1e4)], label='Best_ask')\n",
    "plt.plot(df.BEST_BID.iloc[:int(1e4)], label='Best_bid')"
   ]
  },
  {
   "cell_type": "code",
   "execution_count": 18,
   "id": "stainless-cruise",
   "metadata": {},
   "outputs": [
    {
     "data": {
      "text/plain": [
       "count        75.000000\n",
       "mean     437100.040000\n",
       "std      130148.919617\n",
       "min      252894.000000\n",
       "25%      365183.500000\n",
       "50%      429019.000000\n",
       "75%      473176.500000\n",
       "max      955852.000000\n",
       "dtype: float64"
      ]
     },
     "execution_count": 18,
     "metadata": {},
     "output_type": "execute_result"
    }
   ],
   "source": [
    "# from 2017-11-13 to 2018-02-28\n",
    "# the value is the length of orders on the day\n",
    "df_BNP.groupby('DATE').size().describe()"
   ]
  },
  {
   "cell_type": "markdown",
   "id": "wound-beach",
   "metadata": {},
   "source": [
    "## LVMH\n",
    "- **tick :** 0.05\n",
    "- **price :** ~245"
   ]
  },
  {
   "cell_type": "code",
   "execution_count": 19,
   "id": "amateur-establishment",
   "metadata": {},
   "outputs": [],
   "source": [
    "df_LVMH = pd.read_csv(path + 'LVMH_3months.csv') "
   ]
  },
  {
   "cell_type": "code",
   "execution_count": 20,
   "id": "possible-senate",
   "metadata": {},
   "outputs": [
    {
     "name": "stdout",
     "output_type": "stream",
     "text": [
      "Average mid-price: 245.4228864720817\n"
     ]
    }
   ],
   "source": [
    "df = df_LVMH\n",
    "print('Average mid-price:', (df.BEST_ASK+df.BEST_BID).mean()/2)"
   ]
  },
  {
   "cell_type": "code",
   "execution_count": 21,
   "id": "planned-complaint",
   "metadata": {},
   "outputs": [
    {
     "data": {
      "text/plain": [
       "[<matplotlib.lines.Line2D at 0x7f2e53315a30>]"
      ]
     },
     "execution_count": 21,
     "metadata": {},
     "output_type": "execute_result"
    },
    {
     "data": {
      "image/png": "[encoded data removed]",
      "text/plain": [
       "<Figure size 432x288 with 1 Axes>"
      ]
     },
     "metadata": {
      "needs_background": "light"
     },
     "output_type": "display_data"
    }
   ],
   "source": [
    "plt.plot(df.BEST_ASK.iloc[:int(1e4)], label='Best_ask')\n",
    "plt.plot(df.BEST_BID.iloc[:int(1e4)], label='Best_bid')"
   ]
  },
  {
   "cell_type": "code",
   "execution_count": 22,
   "id": "starting-motorcycle",
   "metadata": {},
   "outputs": [
    {
     "data": {
      "text/plain": [
       "count        75.000000\n",
       "mean     271739.746667\n",
       "std       99272.222542\n",
       "min      140152.000000\n",
       "25%      199569.500000\n",
       "50%      257344.000000\n",
       "75%      315357.000000\n",
       "max      652279.000000\n",
       "dtype: float64"
      ]
     },
     "execution_count": 22,
     "metadata": {},
     "output_type": "execute_result"
    }
   ],
   "source": [
    "# from 2017-11-13 to 2018-02-28\n",
    "# the value is the length of orders on the day\n",
    "df_LVMH.groupby('DATE').size().describe()"
   ]
  },
  {
   "cell_type": "code",
   "execution_count": null,
   "id": "1d88de0a",
   "metadata": {},
   "outputs": [],
   "source": []
  }
 ],
 "metadata": {
  "kernelspec": {
   "display_name": "Python 3 (ipykernel)",
   "language": "python",
   "name": "python3"
  },
  "language_info": {
   "codemirror_mode": {
    "name": "ipython",
    "version": 3
   },
   "file_extension": ".py",
   "mimetype": "text/x-python",
   "name": "python",
   "nbconvert_exporter": "python",
   "pygments_lexer": "ipython3",
   "version": "3.9.11"
  },
  "latex_envs": {
   "LaTeX_envs_menu_present": true,
   "autoclose": false,
   "autocomplete": true,
   "bibliofile": "biblio.bib",
   "cite_by": "apalike",
   "current_citInitial": 1,
   "eqLabelWithNumbers": true,
   "eqNumInitial": 1,
   "hotkeys": {
    "equation": "Ctrl-E",
    "itemize": "Ctrl-I"
   },
   "labels_anchors": false,
   "latex_user_defs": false,
   "report_style_numbering": false,
   "user_envs_cfg": false
  },
  "toc": {
   "base_numbering": 1,
   "nav_menu": {},
   "number_sections": true,
   "sideBar": true,
   "skip_h1_title": false,
   "title_cell": "Table of Contents",
   "title_sidebar": "Contents",
   "toc_cell": true,
   "toc_position": {},
   "toc_section_display": true,
   "toc_window_display": false
  },
  "varInspector": {
   "cols": {
    "lenName": 16,
    "lenType": 16,
    "lenVar": 40
   },
   "kernels_config": {
    "python": {
     "delete_cmd_postfix": "",
     "delete_cmd_prefix": "del ",
     "library": "var_list.py",
     "varRefreshCmd": "print(var_dic_list())"
    },
    "r": {
     "delete_cmd_postfix": ") ",
     "delete_cmd_prefix": "rm(",
     "library": "var_list.r",
     "varRefreshCmd": "cat(var_dic_list()) "
    }
   },
   "types_to_exclude": [
    "module",
    "function",
    "builtin_function_or_method",
    "instance",
    "_Feature"
   ],
   "window_display": false
  }
 },
 "nbformat": 4,
 "nbformat_minor": 5
}
